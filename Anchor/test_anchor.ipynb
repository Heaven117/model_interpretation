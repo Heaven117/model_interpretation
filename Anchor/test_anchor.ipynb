{
 "cells": [
  {
   "cell_type": "code",
   "execution_count": 1,
   "metadata": {},
   "outputs": [
    {
     "name": "stderr",
     "output_type": "stream",
     "text": [
      "/Users/heavenmei/miniconda3/envs/anchor/lib/python3.9/site-packages/tqdm/auto.py:21: TqdmWarning: IProgress not found. Please update jupyter and ipywidgets. See https://ipywidgets.readthedocs.io/en/stable/user_install.html\n",
      "  from .autonotebook import tqdm as notebook_tqdm\n"
     ]
    }
   ],
   "source": [
    "import sys\n",
    "import os\n",
    "sys.path.append('../')\n",
    "%load_ext autoreload\n",
    "%autoreload 2\n",
    "\n",
    "import torch\n",
    "import pandas as pd\n",
    "\n",
    "from utils.parser import *\n",
    "from utils.helper import *\n",
    "from models.data_process import *\n",
    "from models.run_MLP import MLP\n",
    "from anchor import anchor_tabular\n",
    "\n",
    "args = parse_args()\n",
    "device = args.device"
   ]
  },
  {
   "cell_type": "code",
   "execution_count": 2,
   "metadata": {},
   "outputs": [
    {
     "data": {
      "text/plain": [
       "MLP(\n",
       "  (net): Sequential(\n",
       "    (0): Linear(in_features=102, out_features=64, bias=True)\n",
       "    (1): ReLU()\n",
       "    (2): Linear(in_features=64, out_features=32, bias=True)\n",
       "    (3): ReLU()\n",
       "    (4): Linear(in_features=32, out_features=2, bias=True)\n",
       "  )\n",
       ")"
      ]
     },
     "execution_count": 2,
     "metadata": {},
     "output_type": "execute_result"
    }
   ],
   "source": [
    "model = MLP().to(device)\n",
    "ckpt = torch.load('../'+args.model_path+f'MPL_{args.epoch}.pth', map_location='cpu')\n",
    "model.load_state_dict(ckpt)\n",
    "model.eval()"
   ]
  },
  {
   "attachments": {},
   "cell_type": "markdown",
   "metadata": {},
   "source": [
    "## Encoder"
   ]
  },
  {
   "cell_type": "code",
   "execution_count": 29,
   "metadata": {},
   "outputs": [
    {
     "name": "stdout",
     "output_type": "stream",
     "text": [
      "(32561, 11)\n",
      "[30.  9. 35.  3. 11.  4.  3.  3.  2.  0. 22.]\n"
     ]
    }
   ],
   "source": [
    "x_dataset,target,encoder = load_adult_income_dataset()\n",
    "print(x_dataset.shape)\n",
    "\n",
    "train_dataset, test_dataset, y_train, y_test = train_test_split(x_dataset,\n",
    "                                                                target,\n",
    "                                                                test_size=0.2,\n",
    "                                                                random_state=0,\n",
    "                                                                stratify=target)\n",
    "\n",
    "sample_id = 5\n",
    "x_test = test_dataset[sample_id]\n",
    "print(x_test)"
   ]
  },
  {
   "cell_type": "code",
   "execution_count": 31,
   "metadata": {},
   "outputs": [
    {
     "name": "stdout",
     "output_type": "stream",
     "text": [
      "['age', 'educational-num', 'hours-per-week', 'workclass', 'education', 'marital-status', 'occupation', 'relationship', 'race', 'gender', 'native-country']\n",
      "Anchor sample_id 5:  [5, 1]\n",
      "Anchor sample_id 5:\n",
      " ['marital-status > 2.00', 'educational-num <= 9.00']\n"
     ]
    }
   ],
   "source": [
    "predict_fn = lambda x: model.predict_anchor(x,encoder)\n",
    "\n",
    "print(adult_process_names)\n",
    "explainer = anchor_tabular.AnchorTabularExplainer(adult_target_value, adult_process_names, train_dataset, categorical_names = {})\n",
    "exp = explainer.explain_instance(x_test,predict_fn, threshold=0.95)\n",
    "print(f'Anchor sample_id {sample_id}: ' ,exp.features())\n",
    "print(f'Anchor sample_id {sample_id}:\\n',exp.names())"
   ]
  },
  {
   "cell_type": "code",
   "execution_count": null,
   "metadata": {},
   "outputs": [],
   "source": [
    "# exp.show_in_notebook()"
   ]
  }
 ],
 "metadata": {
  "kernelspec": {
   "display_name": "anchor",
   "language": "python",
   "name": "python3"
  },
  "language_info": {
   "codemirror_mode": {
    "name": "ipython",
    "version": 3
   },
   "file_extension": ".py",
   "mimetype": "text/x-python",
   "name": "python",
   "nbconvert_exporter": "python",
   "pygments_lexer": "ipython3",
   "version": "3.9.16"
  },
  "orig_nbformat": 4,
  "vscode": {
   "interpreter": {
    "hash": "4f83192d8ec990dc5e31b26a5f756189e901872244ded29da38cb99c1e601dde"
   }
  }
 },
 "nbformat": 4,
 "nbformat_minor": 2
}
