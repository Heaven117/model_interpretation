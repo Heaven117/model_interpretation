{
 "cells": [
  {
   "cell_type": "code",
   "execution_count": 1,
   "metadata": {},
   "outputs": [],
   "source": [
    "import sys\n",
    "import os\n",
    "sys.path.append('../')\n",
    "%load_ext autoreload\n",
    "%autoreload 2\n",
    "\n",
    "import torch\n",
    "import pandas as pd\n",
    "\n",
    "from utils.parser import *\n",
    "from utils.helper import adult_target_value,adult_oneHot_names\n",
    "from models.data_process import *\n",
    "from models.run_MLP import MLP\n",
    "from anchor import anchor_tabular\n",
    "\n",
    "args = parse_args()\n",
    "device = args.device"
   ]
  },
  {
   "cell_type": "code",
   "execution_count": 2,
   "metadata": {},
   "outputs": [
    {
     "name": "stdout",
     "output_type": "stream",
     "text": [
      "torch.Size([6513, 25]) torch.int64\n"
     ]
    },
    {
     "data": {
      "text/plain": [
       "MLP(\n",
       "  (net): Sequential(\n",
       "    (0): Linear(in_features=25, out_features=12, bias=True)\n",
       "    (1): ReLU()\n",
       "    (2): Linear(in_features=12, out_features=2, bias=True)\n",
       "  )\n",
       ")"
      ]
     },
     "execution_count": 2,
     "metadata": {},
     "output_type": "execute_result"
    }
   ],
   "source": [
    "model = MLP().to(device)\n",
    "ckpt = torch.load('../'+args.model_path+f'MPL_{args.epoch}.pth', map_location='cpu')\n",
    "model.load_state_dict(ckpt)\n",
    "model.eval()"
   ]
  },
  {
   "cell_type": "code",
   "execution_count": 12,
   "metadata": {},
   "outputs": [
    {
     "name": "stdout",
     "output_type": "stream",
     "text": [
      "torch.Size([6513, 25]) torch.int64\n",
      "(26048, 25) int64\n",
      "Prediction:  <=50K \tlabel:  0\n"
     ]
    }
   ],
   "source": [
    "test_dataset = Adult_data(mode = 'test')\n",
    "x_train = Adult_data(mode = 'train',tensor=False).dataset\n",
    "sample_id = 1\n",
    "x_test_idx,y_test_idx = test_dataset[sample_id]\n",
    "pred = model.predict_single(x_test_idx)\n",
    "print('Prediction: ',adult_target_value[pred],'\\tlabel: ',pred )\n",
    "x_test_idx = x_test_idx.detach().numpy()\n"
   ]
  },
  {
   "cell_type": "code",
   "execution_count": 27,
   "metadata": {},
   "outputs": [
    {
     "name": "stdout",
     "output_type": "stream",
     "text": [
      "Anchor sample_id: 1 [18, 23, 1, 2, 14, 5, 2, 0]\n",
      "Anchor sample_id: 1\n",
      " ['race_Amer-Indian-Eskimo > -0.10', 'gender_Female > -0.70', 'educational-num <= -0.03', 'hours-per-week <= -0.03', 'occupation_Professional <= -0.38', 'workclass_Private > -1.52', 'age <= 0.69']\n",
      "Precision: 0.82\n",
      "Coverage: 0.00\n"
     ]
    }
   ],
   "source": [
    "explainer = anchor_tabular.AnchorTabularExplainer([b'<=50K', b'>50K'], adult_oneHot_names[:-1], x_train, categorical_names = {})\n",
    "exp = explainer.explain_instance(x_test_idx, model.predict_detach, threshold=0.95)\n",
    "print(f'Anchor sample_id: {sample_id}' ,exp.features())\n",
    "print(f'Anchor sample_id: {sample_id}\\n',exp.names())\n",
    "print('Precision: %.2f' % exp.precision())\n",
    "print('Coverage: %.2f' % exp.coverage())"
   ]
  },
  {
   "cell_type": "code",
   "execution_count": 28,
   "metadata": {},
   "outputs": [
    {
     "name": "stdout",
     "output_type": "stream",
     "text": [
      "['age' 'educational-num' 'gender' 'hours-per-week' 'occupation' 'race'\n",
      " 'workclass']\n"
     ]
    }
   ],
   "source": [
    "res = []\n",
    "for feature in exp.features():\n",
    "    oneHot_names = adult_oneHot_names[feature].split('_')\n",
    "    index = adult_column_names.index(oneHot_names[0])\n",
    "    res.append(oneHot_names[0])\n",
    "res = np.unique(res)\n",
    "print(res)"
   ]
  }
 ],
 "metadata": {
  "kernelspec": {
   "display_name": "anchor",
   "language": "python",
   "name": "python3"
  },
  "language_info": {
   "codemirror_mode": {
    "name": "ipython",
    "version": 3
   },
   "file_extension": ".py",
   "mimetype": "text/x-python",
   "name": "python",
   "nbconvert_exporter": "python",
   "pygments_lexer": "ipython3",
   "version": "3.9.16"
  },
  "orig_nbformat": 4,
  "vscode": {
   "interpreter": {
    "hash": "4f83192d8ec990dc5e31b26a5f756189e901872244ded29da38cb99c1e601dde"
   }
  }
 },
 "nbformat": 4,
 "nbformat_minor": 2
}
